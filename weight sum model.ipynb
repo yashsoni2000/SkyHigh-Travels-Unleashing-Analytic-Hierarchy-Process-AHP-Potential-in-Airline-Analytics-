{
 "cells": [
  {
   "cell_type": "code",
   "execution_count": 1,
   "id": "c1bf03af",
   "metadata": {},
   "outputs": [
    {
     "name": "stdout",
     "output_type": "stream",
     "text": [
      "Best Airline Option: Qatar Airways\n"
     ]
    }
   ],
   "source": [
    "import numpy as np\n",
    "\n",
    "# Define the criteria weights\n",
    "criteria_weights = {\n",
    "    'Cost': 0.39,\n",
    "    'Delay': 0.08,\n",
    "    'Duration': 0.21,\n",
    "    'Amenities': 0.29,\n",
    "}\n",
    "\n",
    "# Define the scores for each airline on each criterion\n",
    "\n",
    "scores = np.array([\n",
    "    [2, 1, 5, 1],\n",
    "    [1, 3, 6, 2],\n",
    "    [5, 2, 3, 1],\n",
    "    [3, 5, 1, 3],\n",
    "    [4, 6, 4, 2],\n",
    "    [6, 4, 2, 2],\n",
    "])\n",
    "\n",
    "# List of airlines\n",
    "airlines = ['Air India', 'Air Canada', 'Lufthansa', 'Emirates', 'British Airways', 'Qatar Airways']\n",
    "\n",
    "# Calculate the weighted sum for each airline\n",
    "weighted_sums = np.dot(scores, list(criteria_weights.values()))\n",
    "\n",
    "# Rank the airlines based on their weighted sums\n",
    "ranked_indices = np.argsort(weighted_sums)[::-1]\n",
    "ranked_airlines = [airlines[i] for i in ranked_indices]\n",
    "\n",
    "# The best airline option available\n",
    "best_airline = ranked_airlines[0]\n",
    "\n",
    "print(\"Best Airline Option:\", best_airline)\n"
   ]
  },
  {
   "cell_type": "code",
   "execution_count": null,
   "id": "5df2c9a5",
   "metadata": {},
   "outputs": [],
   "source": []
  },
  {
   "cell_type": "code",
   "execution_count": null,
   "id": "26e6d2bb",
   "metadata": {},
   "outputs": [],
   "source": []
  },
  {
   "cell_type": "code",
   "execution_count": null,
   "id": "4d059bc0",
   "metadata": {},
   "outputs": [],
   "source": []
  }
 ],
 "metadata": {
  "kernelspec": {
   "display_name": "Python 3 (ipykernel)",
   "language": "python",
   "name": "python3"
  },
  "language_info": {
   "codemirror_mode": {
    "name": "ipython",
    "version": 3
   },
   "file_extension": ".py",
   "mimetype": "text/x-python",
   "name": "python",
   "nbconvert_exporter": "python",
   "pygments_lexer": "ipython3",
   "version": "3.11.3"
  }
 },
 "nbformat": 4,
 "nbformat_minor": 5
}
